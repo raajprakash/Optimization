{
 "cells": [
  {
   "cell_type": "code",
   "execution_count": 1,
   "metadata": {
    "colab": {
     "base_uri": "https://localhost:8080/",
     "height": 52
    },
    "colab_type": "code",
    "id": "Ge3v56g-NW0K",
    "outputId": "2e522e71-e161-453f-d1b3-f1578361f7bf"
   },
   "outputs": [
    {
     "name": "stderr",
     "output_type": "stream",
     "text": [
      "fatal: destination path 'Bank_classifier' already exists and is not an empty directory.\n"
     ]
    },
    {
     "name": "stdout",
     "output_type": "stream",
     "text": [
      "1.13.1\n"
     ]
    },
    {
     "name": "stderr",
     "output_type": "stream",
     "text": [
      "Using TensorFlow backend.\n"
     ]
    }
   ],
   "source": [
    "#data cloned from github\n",
    "\n",
    "!git clone https://github.com/DevanandamS/Bank_classifier.git\n",
    "import numpy as np\n",
    "import pandas as pd\n",
    "from sklearn.preprocessing import MinMaxScaler, StandardScaler\n",
    "from sklearn.model_selection import train_test_split\n",
    "import matplotlib.pyplot as plt\n",
    "import tensorflow as tf\n",
    "print(tf.__version__)\n",
    "import os\n",
    "from keras.optimizers import Adam, sgd, Adadelta\n",
    "from keras.models import Sequential\n",
    "from keras.layers import Dense\n",
    "from keras.utils.np_utils import to_categorical\n",
    "from keras.layers import Dropout\n",
    "import random\n",
    "from sklearn.preprocessing import LabelEncoder, OneHotEncoder"
   ]
  },
  {
   "cell_type": "code",
   "execution_count": 2,
   "metadata": {
    "colab": {
     "base_uri": "https://localhost:8080/",
     "height": 195
    },
    "colab_type": "code",
    "id": "S8PLRY4ROF8R",
    "outputId": "a91b35ff-97d5-43fb-a693-243bd1dbf1be"
   },
   "outputs": [
    {
     "data": {
      "text/html": [
       "<div>\n",
       "<style scoped>\n",
       "    .dataframe tbody tr th:only-of-type {\n",
       "        vertical-align: middle;\n",
       "    }\n",
       "\n",
       "    .dataframe tbody tr th {\n",
       "        vertical-align: top;\n",
       "    }\n",
       "\n",
       "    .dataframe thead th {\n",
       "        text-align: right;\n",
       "    }\n",
       "</style>\n",
       "<table border=\"1\" class=\"dataframe\">\n",
       "  <thead>\n",
       "    <tr style=\"text-align: right;\">\n",
       "      <th></th>\n",
       "      <th>RowNumber</th>\n",
       "      <th>CustomerId</th>\n",
       "      <th>Surname</th>\n",
       "      <th>CreditScore</th>\n",
       "      <th>Geography</th>\n",
       "      <th>Gender</th>\n",
       "      <th>Age</th>\n",
       "      <th>Tenure</th>\n",
       "      <th>Balance</th>\n",
       "      <th>NumOfProducts</th>\n",
       "      <th>HasCrCard</th>\n",
       "      <th>IsActiveMember</th>\n",
       "      <th>EstimatedSalary</th>\n",
       "      <th>Exited</th>\n",
       "    </tr>\n",
       "  </thead>\n",
       "  <tbody>\n",
       "    <tr>\n",
       "      <th>0</th>\n",
       "      <td>1</td>\n",
       "      <td>15634602</td>\n",
       "      <td>Hargrave</td>\n",
       "      <td>619</td>\n",
       "      <td>France</td>\n",
       "      <td>Female</td>\n",
       "      <td>42</td>\n",
       "      <td>2</td>\n",
       "      <td>0.00</td>\n",
       "      <td>1</td>\n",
       "      <td>1</td>\n",
       "      <td>1</td>\n",
       "      <td>101348.88</td>\n",
       "      <td>1</td>\n",
       "    </tr>\n",
       "    <tr>\n",
       "      <th>1</th>\n",
       "      <td>2</td>\n",
       "      <td>15647311</td>\n",
       "      <td>Hill</td>\n",
       "      <td>608</td>\n",
       "      <td>Spain</td>\n",
       "      <td>Female</td>\n",
       "      <td>41</td>\n",
       "      <td>1</td>\n",
       "      <td>83807.86</td>\n",
       "      <td>1</td>\n",
       "      <td>0</td>\n",
       "      <td>1</td>\n",
       "      <td>112542.58</td>\n",
       "      <td>0</td>\n",
       "    </tr>\n",
       "    <tr>\n",
       "      <th>2</th>\n",
       "      <td>3</td>\n",
       "      <td>15619304</td>\n",
       "      <td>Onio</td>\n",
       "      <td>502</td>\n",
       "      <td>France</td>\n",
       "      <td>Female</td>\n",
       "      <td>42</td>\n",
       "      <td>8</td>\n",
       "      <td>159660.80</td>\n",
       "      <td>3</td>\n",
       "      <td>1</td>\n",
       "      <td>0</td>\n",
       "      <td>113931.57</td>\n",
       "      <td>1</td>\n",
       "    </tr>\n",
       "    <tr>\n",
       "      <th>3</th>\n",
       "      <td>4</td>\n",
       "      <td>15701354</td>\n",
       "      <td>Boni</td>\n",
       "      <td>699</td>\n",
       "      <td>France</td>\n",
       "      <td>Female</td>\n",
       "      <td>39</td>\n",
       "      <td>1</td>\n",
       "      <td>0.00</td>\n",
       "      <td>2</td>\n",
       "      <td>0</td>\n",
       "      <td>0</td>\n",
       "      <td>93826.63</td>\n",
       "      <td>0</td>\n",
       "    </tr>\n",
       "    <tr>\n",
       "      <th>4</th>\n",
       "      <td>5</td>\n",
       "      <td>15737888</td>\n",
       "      <td>Mitchell</td>\n",
       "      <td>850</td>\n",
       "      <td>Spain</td>\n",
       "      <td>Female</td>\n",
       "      <td>43</td>\n",
       "      <td>2</td>\n",
       "      <td>125510.82</td>\n",
       "      <td>1</td>\n",
       "      <td>1</td>\n",
       "      <td>1</td>\n",
       "      <td>79084.10</td>\n",
       "      <td>0</td>\n",
       "    </tr>\n",
       "  </tbody>\n",
       "</table>\n",
       "</div>"
      ],
      "text/plain": [
       "   RowNumber  CustomerId   Surname  CreditScore Geography  Gender  Age  \\\n",
       "0  1          15634602    Hargrave  619          France    Female  42    \n",
       "1  2          15647311    Hill      608          Spain     Female  41    \n",
       "2  3          15619304    Onio      502          France    Female  42    \n",
       "3  4          15701354    Boni      699          France    Female  39    \n",
       "4  5          15737888    Mitchell  850          Spain     Female  43    \n",
       "\n",
       "   Tenure    Balance  NumOfProducts  HasCrCard  IsActiveMember  \\\n",
       "0  2       0.00       1              1          1                \n",
       "1  1       83807.86   1              0          1                \n",
       "2  8       159660.80  3              1          0                \n",
       "3  1       0.00       2              0          0                \n",
       "4  2       125510.82  1              1          1                \n",
       "\n",
       "   EstimatedSalary  Exited  \n",
       "0  101348.88        1       \n",
       "1  112542.58        0       \n",
       "2  113931.57        1       \n",
       "3  93826.63         0       \n",
       "4  79084.10         0       "
      ]
     },
     "execution_count": 2,
     "metadata": {},
     "output_type": "execute_result"
    }
   ],
   "source": [
    "#Creating dataframe and loading csv values\n",
    "\n",
    "datadir = 'Bank_classifier'\n",
    "data = pd.read_csv(os.path.join(datadir, 'Churn_Modelling.csv'))\n",
    "pd.set_option('display.max_colwidth', -1)\n",
    "data.head()"
   ]
  },
  {
   "cell_type": "code",
   "execution_count": 3,
   "metadata": {
    "colab": {
     "base_uri": "https://localhost:8080/",
     "height": 70
    },
    "colab_type": "code",
    "id": "iorajwAMq207",
    "outputId": "535b2b5f-e779-4030-ecd5-bf53d18f8318"
   },
   "outputs": [
    {
     "data": {
      "text/html": [
       "<div>\n",
       "<style scoped>\n",
       "    .dataframe tbody tr th:only-of-type {\n",
       "        vertical-align: middle;\n",
       "    }\n",
       "\n",
       "    .dataframe tbody tr th {\n",
       "        vertical-align: top;\n",
       "    }\n",
       "\n",
       "    .dataframe thead th {\n",
       "        text-align: right;\n",
       "    }\n",
       "</style>\n",
       "<table border=\"1\" class=\"dataframe\">\n",
       "  <thead>\n",
       "    <tr style=\"text-align: right;\">\n",
       "      <th></th>\n",
       "      <th>CreditScore</th>\n",
       "      <th>Geography</th>\n",
       "      <th>Gender</th>\n",
       "      <th>Age</th>\n",
       "      <th>Tenure</th>\n",
       "      <th>Balance</th>\n",
       "      <th>NumOfProducts</th>\n",
       "      <th>HasCrCard</th>\n",
       "      <th>IsActiveMember</th>\n",
       "      <th>EstimatedSalary</th>\n",
       "      <th>Exited</th>\n",
       "    </tr>\n",
       "  </thead>\n",
       "  <tbody>\n",
       "    <tr>\n",
       "      <th>0</th>\n",
       "      <td>619</td>\n",
       "      <td>0</td>\n",
       "      <td>0</td>\n",
       "      <td>42</td>\n",
       "      <td>2</td>\n",
       "      <td>0.00</td>\n",
       "      <td>1</td>\n",
       "      <td>1</td>\n",
       "      <td>1</td>\n",
       "      <td>101348.88</td>\n",
       "      <td>1</td>\n",
       "    </tr>\n",
       "    <tr>\n",
       "      <th>1</th>\n",
       "      <td>608</td>\n",
       "      <td>2</td>\n",
       "      <td>0</td>\n",
       "      <td>41</td>\n",
       "      <td>1</td>\n",
       "      <td>83807.86</td>\n",
       "      <td>1</td>\n",
       "      <td>0</td>\n",
       "      <td>1</td>\n",
       "      <td>112542.58</td>\n",
       "      <td>0</td>\n",
       "    </tr>\n",
       "    <tr>\n",
       "      <th>2</th>\n",
       "      <td>502</td>\n",
       "      <td>0</td>\n",
       "      <td>0</td>\n",
       "      <td>42</td>\n",
       "      <td>8</td>\n",
       "      <td>159660.80</td>\n",
       "      <td>3</td>\n",
       "      <td>1</td>\n",
       "      <td>0</td>\n",
       "      <td>113931.57</td>\n",
       "      <td>1</td>\n",
       "    </tr>\n",
       "    <tr>\n",
       "      <th>3</th>\n",
       "      <td>699</td>\n",
       "      <td>0</td>\n",
       "      <td>0</td>\n",
       "      <td>39</td>\n",
       "      <td>1</td>\n",
       "      <td>0.00</td>\n",
       "      <td>2</td>\n",
       "      <td>0</td>\n",
       "      <td>0</td>\n",
       "      <td>93826.63</td>\n",
       "      <td>0</td>\n",
       "    </tr>\n",
       "    <tr>\n",
       "      <th>4</th>\n",
       "      <td>850</td>\n",
       "      <td>2</td>\n",
       "      <td>0</td>\n",
       "      <td>43</td>\n",
       "      <td>2</td>\n",
       "      <td>125510.82</td>\n",
       "      <td>1</td>\n",
       "      <td>1</td>\n",
       "      <td>1</td>\n",
       "      <td>79084.10</td>\n",
       "      <td>0</td>\n",
       "    </tr>\n",
       "  </tbody>\n",
       "</table>\n",
       "</div>"
      ],
      "text/plain": [
       "   CreditScore  Geography  Gender  Age  Tenure    Balance  NumOfProducts  \\\n",
       "0  619          0          0       42   2       0.00       1               \n",
       "1  608          2          0       41   1       83807.86   1               \n",
       "2  502          0          0       42   8       159660.80  3               \n",
       "3  699          0          0       39   1       0.00       2               \n",
       "4  850          2          0       43   2       125510.82  1               \n",
       "\n",
       "   HasCrCard  IsActiveMember  EstimatedSalary  Exited  \n",
       "0  1          1               101348.88        1       \n",
       "1  0          1               112542.58        0       \n",
       "2  1          0               113931.57        1       \n",
       "3  0          0               93826.63         0       \n",
       "4  1          1               79084.10         0       "
      ]
     },
     "execution_count": 3,
     "metadata": {},
     "output_type": "execute_result"
    }
   ],
   "source": [
    "#Implementing label encoder\n",
    "\n",
    "data['Geography'] = data['Geography'].astype('category').cat.codes\n",
    "data['Gender'] = data['Gender'].astype('category').cat.codes\n",
    "data_df = data.drop(columns=['RowNumber', 'CustomerId', 'Surname'])\n",
    "data_df.head()"
   ]
  },
  {
   "cell_type": "code",
   "execution_count": 4,
   "metadata": {
    "colab": {
     "base_uri": "https://localhost:8080/",
     "height": 286
    },
    "colab_type": "code",
    "id": "G3a1mILJWuoJ",
    "outputId": "7e7ea2a4-33ca-4521-f89a-43efde1484a5"
   },
   "outputs": [
    {
     "name": "stdout",
     "output_type": "stream",
     "text": [
      "Y_train and Y_test splitted..\n",
      "X_train and X_test splitted..\n"
     ]
    }
   ],
   "source": [
    "#Setting Y_train and Y_test values\n",
    "\n",
    "row_count = 7000\n",
    "Y_data= data_df['Exited'].values\n",
    "Y_train = Y_data[0:row_count]\n",
    "Y_test = Y_data[row_count:]\n",
    "print(\"Y_train and Y_test splitted..\")\n",
    "\n",
    "#Setting X_train and X_test values\n",
    "\n",
    "x_data = data_df.drop(columns=['Exited'])\n",
    "x_train = x_data.iloc[0:row_count,:]\n",
    "x_test = x_data.iloc[row_count:,:]\n",
    "print(\"X_train and X_test splitted..\")\n"
   ]
  },
  {
   "cell_type": "code",
   "execution_count": 5,
   "metadata": {
    "colab": {
     "base_uri": "https://localhost:8080/",
     "height": 34
    },
    "colab_type": "code",
    "id": "cbvd_Ptye_wX",
    "outputId": "48d9f1ca-e5f7-419e-b5b1-4db65a5e82dd"
   },
   "outputs": [
    {
     "name": "stdout",
     "output_type": "stream",
     "text": [
      "X_train and X_test are scaled\n"
     ]
    },
    {
     "name": "stderr",
     "output_type": "stream",
     "text": [
      "C:\\Users\\Deva\\Anaconda37\\lib\\site-packages\\sklearn\\preprocessing\\data.py:323: DataConversionWarning: Data with input dtype int8, int64, float64 were all converted to float64 by MinMaxScaler.\n",
      "  return self.partial_fit(X, y)\n",
      "C:\\Users\\Deva\\Anaconda37\\lib\\site-packages\\sklearn\\preprocessing\\data.py:323: DataConversionWarning: Data with input dtype int8, int64, float64 were all converted to float64 by MinMaxScaler.\n",
      "  return self.partial_fit(X, y)\n"
     ]
    }
   ],
   "source": [
    "#Feature Scaling\n",
    "\n",
    "features =len(x_train.columns)\n",
    "scaler_train = MinMaxScaler()\n",
    "scaler_test = MinMaxScaler()\n",
    "scaler_train.fit(x_train)\n",
    "scaler_test.fit(x_test)\n",
    "X_train = scaler_train.transform(x_train)\n",
    "X_test = scaler_test.transform(x_test)\n",
    "print(\"X_train and X_test are scaled\")"
   ]
  },
  {
   "cell_type": "code",
   "execution_count": 6,
   "metadata": {},
   "outputs": [
    {
     "name": "stdout",
     "output_type": "stream",
     "text": [
      "X_train.shape() = (7000, 10)\n",
      "X_train.min() = 0.0\n",
      "X_train.max() = 1.0000000000000002\n",
      "-----------------------------------------\n",
      "Y_train.shape() = (7000,)\n",
      "Y_train.min() = 0\n",
      "Y_train.max() = 1\n",
      "-----------------------------------------\n",
      "X_test.shape() = (3000, 10)\n",
      "X_test.min() = 0.0\n",
      "X_test.max() = 1.0\n",
      "-----------------------------------------\n",
      "Y_test.shape() = (3000,)\n",
      "Y_test.min() = 0\n",
      "Y_test.max() = 1\n"
     ]
    }
   ],
   "source": [
    "#Printing dataset shape\n",
    "\n",
    "print('X_train.shape() = {}'.format(X_train.shape))\n",
    "print('X_train.min() = {}'.format(X_train.min()))\n",
    "print('X_train.max() = {}'.format(X_train.max()))\n",
    "\n",
    "print('-----------------------------------------')\n",
    "\n",
    "print('Y_train.shape() = {}'.format(Y_train.shape))\n",
    "print('Y_train.min() = {}'.format(Y_train.min())) \n",
    "print('Y_train.max() = {}'.format(Y_train.max()))\n",
    "      \n",
    "print('-----------------------------------------')\n",
    "\n",
    "print('X_test.shape() = {}'.format(X_test.shape))\n",
    "print('X_test.min() = {}'.format(X_test.min()))\n",
    "print('X_test.max() = {}'.format(X_test.max()))\n",
    "      \n",
    "print('-----------------------------------------')\n",
    "print('Y_test.shape() = {}'.format(Y_test.shape))\n",
    "print('Y_test.min() = {}'.format(Y_test.min()))\n",
    "print('Y_test.max() = {}'.format(Y_test.max()))\n"
   ]
  },
  {
   "cell_type": "code",
   "execution_count": 7,
   "metadata": {
    "colab": {
     "base_uri": "https://localhost:8080/",
     "height": 34
    },
    "colab_type": "code",
    "id": "AD6PZC66Tn1q",
    "outputId": "25acc2d9-798a-457b-c27c-71b7419ea547"
   },
   "outputs": [
    {
     "name": "stdout",
     "output_type": "stream",
     "text": [
      "Traning and Validation data are set.\n"
     ]
    }
   ],
   "source": [
    "#Getting data using train_test_split for training and validation data\n",
    "\n",
    "def get_data(X, y):\n",
    "    random = np.random.randint(low=1, high=100, size=1)[0]\n",
    "    a_train, a_valid, y_tr, y_va = train_test_split(X, y,\n",
    "                    test_size=0.3,\n",
    "                    random_state=random, \n",
    "                    shuffle=True)   \n",
    "    y_train = to_categorical(y_tr, 2)\n",
    "    y_valid = to_categorical(y_va, 2)\n",
    "    return a_train, a_valid, y_train, y_valid\n",
    "print(\"Traning and Validation data are set.\")\n",
    "INPUT_SHAPE = features\n",
    "BATCH_SIZE = 20"
   ]
  },
  {
   "cell_type": "code",
   "execution_count": 8,
   "metadata": {},
   "outputs": [
    {
     "name": "stdout",
     "output_type": "stream",
     "text": [
      "SGD Model created..\n",
      "WARNING:tensorflow:From C:\\Users\\Deva\\Anaconda37\\lib\\site-packages\\tensorflow\\python\\framework\\op_def_library.py:263: colocate_with (from tensorflow.python.framework.ops) is deprecated and will be removed in a future version.\n",
      "Instructions for updating:\n",
      "Colocations handled automatically by placer.\n",
      "_________________________________________________________________\n",
      "Layer (type)                 Output Shape              Param #   \n",
      "=================================================================\n",
      "layer_1 (Dense)              (None, 10)                110       \n",
      "_________________________________________________________________\n",
      "layer_2 (Dense)              (None, 15)                165       \n",
      "_________________________________________________________________\n",
      "dense_1 (Dense)              (None, 2)                 32        \n",
      "=================================================================\n",
      "Total params: 307\n",
      "Trainable params: 307\n",
      "Non-trainable params: 0\n",
      "_________________________________________________________________\n"
     ]
    }
   ],
   "source": [
    "#Creating Stochastic gradient descent model\n",
    "\n",
    "def create_model_sgd():\n",
    "    model = Sequential()\n",
    "    model.add(Dense(INPUT_SHAPE, input_dim=INPUT_SHAPE, activation='relu', name='layer_1'))\n",
    "    model.add(Dense(15, activation='relu', name='layer_2'))\n",
    "    model.add(Dense(2, activation='softmax'))\n",
    "    model.compile(sgd(lr= 0.1), loss = 'mse', metrics = ['accuracy'])\n",
    "    model.summary()\n",
    "    return model\n",
    "print(\"SGD Model created..\") \n",
    "model_sgd = create_model_sgd()"
   ]
  },
  {
   "cell_type": "code",
   "execution_count": 9,
   "metadata": {},
   "outputs": [
    {
     "name": "stdout",
     "output_type": "stream",
     "text": [
      "WARNING:tensorflow:From C:\\Users\\Deva\\Anaconda37\\lib\\site-packages\\tensorflow\\python\\ops\\math_ops.py:3066: to_int32 (from tensorflow.python.ops.math_ops) is deprecated and will be removed in a future version.\n",
      "Instructions for updating:\n",
      "Use tf.cast instead.\n",
      "Train on 4900 samples, validate on 2100 samples\n",
      "Epoch 1/10\n",
      "4900/4900 [==============================] - 1s 212us/step - loss: 0.1595 - acc: 0.7924 - val_loss: 0.1604 - val_acc: 0.7890\n",
      "Epoch 2/10\n",
      "4900/4900 [==============================] - 1s 139us/step - loss: 0.1544 - acc: 0.7959 - val_loss: 0.1573 - val_acc: 0.7890\n",
      "Epoch 3/10\n",
      "4900/4900 [==============================] - 1s 154us/step - loss: 0.1519 - acc: 0.7959 - val_loss: 0.1550 - val_acc: 0.7890\n",
      "Epoch 4/10\n",
      "4900/4900 [==============================] - 1s 140us/step - loss: 0.1498 - acc: 0.7959 - val_loss: 0.1547 - val_acc: 0.7890\n",
      "Epoch 5/10\n",
      "4900/4900 [==============================] - 1s 174us/step - loss: 0.1481 - acc: 0.7959 - val_loss: 0.1517 - val_acc: 0.7886\n",
      "Epoch 6/10\n",
      "4900/4900 [==============================] - 1s 161us/step - loss: 0.1461 - acc: 0.7990 - val_loss: 0.1499 - val_acc: 0.7895\n",
      "Epoch 7/10\n",
      "4900/4900 [==============================] - 1s 139us/step - loss: 0.1446 - acc: 0.8002 - val_loss: 0.1488 - val_acc: 0.7948\n",
      "Epoch 8/10\n",
      "4900/4900 [==============================] - 1s 146us/step - loss: 0.1434 - acc: 0.8063 - val_loss: 0.1461 - val_acc: 0.8033\n",
      "Epoch 9/10\n",
      "4900/4900 [==============================] - 1s 137us/step - loss: 0.1420 - acc: 0.8104 - val_loss: 0.1446 - val_acc: 0.8033\n",
      "Epoch 10/10\n",
      "4900/4900 [==============================] - 1s 155us/step - loss: 0.1405 - acc: 0.8139 - val_loss: 0.1443 - val_acc: 0.8067\n"
     ]
    },
    {
     "data": {
      "text/plain": [
       "Text(0.5, 0, 'epoch')"
      ]
     },
     "execution_count": 9,
     "metadata": {},
     "output_type": "execute_result"
    },
    {
     "data": {
      "image/png": "[encoded data removed]",
      "text/plain": [
       "<Figure size 432x288 with 1 Axes>"
      ]
     },
     "metadata": {
      "needs_background": "light"
     },
     "output_type": "display_data"
    }
   ],
   "source": [
    "x_train, x_valid, y_train, y_valid = get_data(X_train, Y_train)\n",
    "history_sgd = model_sgd.fit(x_train, y_train,\n",
    "                    batch_size=BATCH_SIZE, \n",
    "                    epochs=10,\n",
    "                    verbose=1,\n",
    "                    shuffle=True,\n",
    "                    validation_data=(x_valid, y_valid))\n",
    "\n",
    "\n",
    "#plot on train and validation loss\n",
    "\n",
    "plt.plot(history_sgd.history['loss'])\n",
    "plt.plot(history_sgd.history['val_loss'])\n",
    "plt.title('Loss')\n",
    "plt.xlabel('epoch')\n"
   ]
  },
  {
   "cell_type": "code",
   "execution_count": 10,
   "metadata": {
    "colab": {
     "base_uri": "https://localhost:8080/",
     "height": 281
    },
    "colab_type": "code",
    "id": "JpH3lbZIgquC",
    "outputId": "c5ab744f-e9a6-480f-ff81-1008ed5af08f"
   },
   "outputs": [
    {
     "data": {
      "text/plain": [
       "Text(0.5, 0, 'epoch')"
      ]
     },
     "execution_count": 10,
     "metadata": {},
     "output_type": "execute_result"
    },
    {
     "data": {
      "image/png": "[encoded data removed]",
      "text/plain": [
       "<Figure size 432x288 with 1 Axes>"
      ]
     },
     "metadata": {
      "needs_background": "light"
     },
     "output_type": "display_data"
    }
   ],
   "source": [
    "#plot on train and validation accuracy\n",
    "\n",
    "plt.plot(history_sgd.history['acc'])\n",
    "plt.plot(history_sgd.history['val_acc'])\n",
    "plt.legend(['training','test'])\n",
    "plt.title('Accuracy')\n",
    "plt.xlabel('epoch')"
   ]
  },
  {
   "cell_type": "code",
   "execution_count": 11,
   "metadata": {},
   "outputs": [
    {
     "name": "stdout",
     "output_type": "stream",
     "text": [
      "Adadelta Model created..\n",
      "_________________________________________________________________\n",
      "Layer (type)                 Output Shape              Param #   \n",
      "=================================================================\n",
      "layer_1 (Dense)              (None, 10)                110       \n",
      "_________________________________________________________________\n",
      "layer_2 (Dense)              (None, 15)                165       \n",
      "_________________________________________________________________\n",
      "dense_2 (Dense)              (None, 2)                 32        \n",
      "=================================================================\n",
      "Total params: 307\n",
      "Trainable params: 307\n",
      "Non-trainable params: 0\n",
      "_________________________________________________________________\n"
     ]
    }
   ],
   "source": [
    "#Creating Adadelta model\n",
    "\n",
    "def create_model_Adadelta():\n",
    "    model = Sequential()\n",
    "    model.add(Dense(INPUT_SHAPE, input_dim=INPUT_SHAPE, activation='relu', name='layer_1'))\n",
    "    model.add(Dense(15, activation='relu', name='layer_2'))\n",
    "    model.add(Dense(2, activation='softmax'))\n",
    "    model.compile(Adadelta(lr= 0.01), loss = 'categorical_crossentropy', metrics = ['accuracy'])\n",
    "    model.summary()\n",
    "    return model\n",
    "print(\"Adadelta Model created..\") \n",
    "model_Adadelta = create_model_Adadelta()"
   ]
  },
  {
   "cell_type": "code",
   "execution_count": 12,
   "metadata": {
    "colab": {
     "base_uri": "https://localhost:8080/",
     "height": 263
    },
    "colab_type": "code",
    "id": "3b8Ktw_ES34O",
    "outputId": "747851a6-3088-4061-8fef-9f3f604876c2"
   },
   "outputs": [
    {
     "name": "stdout",
     "output_type": "stream",
     "text": [
      "Train on 4900 samples, validate on 2100 samples\n",
      "Epoch 1/15\n",
      "4900/4900 [==============================] - 2s 311us/step - loss: 0.6192 - acc: 0.7606 - val_loss: 0.6108 - val_acc: 0.7690\n",
      "Epoch 2/15\n",
      "4900/4900 [==============================] - 1s 177us/step - loss: 0.6063 - acc: 0.7786 - val_loss: 0.5988 - val_acc: 0.7790\n",
      "Epoch 3/15\n",
      "4900/4900 [==============================] - 1s 186us/step - loss: 0.5946 - acc: 0.7863 - val_loss: 0.5881 - val_acc: 0.7857\n",
      "Epoch 4/15\n",
      "4900/4900 [==============================] - 1s 186us/step - loss: 0.5843 - acc: 0.7912 - val_loss: 0.5789 - val_acc: 0.7881\n",
      "Epoch 5/15\n",
      "4900/4900 [==============================] - 1s 180us/step - loss: 0.5753 - acc: 0.7945 - val_loss: 0.5708 - val_acc: 0.7890\n",
      "Epoch 6/15\n",
      "4900/4900 [==============================] - 1s 169us/step - loss: 0.5675 - acc: 0.7947 - val_loss: 0.5638 - val_acc: 0.7890\n",
      "Epoch 7/15\n",
      "4900/4900 [==============================] - 1s 176us/step - loss: 0.5608 - acc: 0.7951 - val_loss: 0.5580 - val_acc: 0.7895\n",
      "Epoch 8/15\n",
      "4900/4900 [==============================] - 1s 178us/step - loss: 0.5550 - acc: 0.7953 - val_loss: 0.5529 - val_acc: 0.7895\n",
      "Epoch 9/15\n",
      "4900/4900 [==============================] - 1s 171us/step - loss: 0.5501 - acc: 0.7957 - val_loss: 0.5487 - val_acc: 0.7890\n",
      "Epoch 10/15\n",
      "4900/4900 [==============================] - 1s 169us/step - loss: 0.5460 - acc: 0.7959 - val_loss: 0.5452 - val_acc: 0.7890\n",
      "Epoch 11/15\n",
      "4900/4900 [==============================] - 1s 173us/step - loss: 0.5424 - acc: 0.7959 - val_loss: 0.5421 - val_acc: 0.7890\n",
      "Epoch 12/15\n",
      "4900/4900 [==============================] - 1s 173us/step - loss: 0.5393 - acc: 0.7959 - val_loss: 0.5395 - val_acc: 0.7890\n",
      "Epoch 13/15\n",
      "4900/4900 [==============================] - 1s 168us/step - loss: 0.5367 - acc: 0.7959 - val_loss: 0.5373 - val_acc: 0.7890\n",
      "Epoch 14/15\n",
      "4900/4900 [==============================] - 1s 162us/step - loss: 0.5345 - acc: 0.7959 - val_loss: 0.5355 - val_acc: 0.7890\n",
      "Epoch 15/15\n",
      "4900/4900 [==============================] - 1s 184us/step - loss: 0.5326 - acc: 0.7959 - val_loss: 0.5339 - val_acc: 0.7890\n"
     ]
    },
    {
     "data": {
      "text/plain": [
       "Text(0.5, 0, 'epoch')"
      ]
     },
     "execution_count": 12,
     "metadata": {},
     "output_type": "execute_result"
    },
    {
     "data": {
      "image/png": "[encoded data removed]",
      "text/plain": [
       "<Figure size 432x288 with 1 Axes>"
      ]
     },
     "metadata": {
      "needs_background": "light"
     },
     "output_type": "display_data"
    }
   ],
   "source": [
    "history_Adadelta = model_Adadelta.fit(x_train, y_train,\n",
    "                    batch_size=BATCH_SIZE, \n",
    "                    epochs=15,\n",
    "                    verbose=1,\n",
    "                    shuffle=True,\n",
    "                    validation_data=(x_valid, y_valid))\n",
    "\n",
    "\n",
    "#plot on train and validation loss\n",
    "\n",
    "plt.plot(history_Adadelta.history['loss'])\n",
    "plt.plot(history_Adadelta.history['val_loss'])\n",
    "plt.title('Loss')\n",
    "plt.xlabel('epoch')"
   ]
  },
  {
   "cell_type": "code",
   "execution_count": 13,
   "metadata": {},
   "outputs": [
    {
     "data": {
      "text/plain": [
       "Text(0.5, 0, 'epoch')"
      ]
     },
     "execution_count": 13,
     "metadata": {},
     "output_type": "execute_result"
    },
    {
     "data": {
      "image/png": "[encoded data removed]",
      "text/plain": [
       "<Figure size 432x288 with 1 Axes>"
      ]
     },
     "metadata": {
      "needs_background": "light"
     },
     "output_type": "display_data"
    }
   ],
   "source": [
    "#plot on train and validation accuracy\n",
    "\n",
    "plt.plot(history_Adadelta.history['acc'])\n",
    "plt.plot(history_Adadelta.history['val_acc'])\n",
    "plt.legend(['training','test'])\n",
    "plt.title('Accuracy')\n",
    "plt.xlabel('epoch')"
   ]
  },
  {
   "cell_type": "code",
   "execution_count": 14,
   "metadata": {},
   "outputs": [
    {
     "name": "stdout",
     "output_type": "stream",
     "text": [
      "Adam Model created..\n",
      "_________________________________________________________________\n",
      "Layer (type)                 Output Shape              Param #   \n",
      "=================================================================\n",
      "layer_1 (Dense)              (None, 10)                110       \n",
      "_________________________________________________________________\n",
      "layer_2 (Dense)              (None, 15)                165       \n",
      "_________________________________________________________________\n",
      "dense_3 (Dense)              (None, 2)                 32        \n",
      "=================================================================\n",
      "Total params: 307\n",
      "Trainable params: 307\n",
      "Non-trainable params: 0\n",
      "_________________________________________________________________\n"
     ]
    }
   ],
   "source": [
    "#Creating Adam model\n",
    "\n",
    "\n",
    "def create_model_Adam():\n",
    "    model = Sequential()\n",
    "    model.add(Dense(INPUT_SHAPE, input_dim=INPUT_SHAPE, activation='relu', name='layer_1'))\n",
    "    model.add(Dense(15, activation='relu', name='layer_2'))\n",
    "    model.add(Dense(2, activation='softmax'))\n",
    "    model.compile(Adam(lr= 0.003), loss = 'categorical_crossentropy', metrics = ['accuracy'])\n",
    "    model.summary()\n",
    "    return model\n",
    "print(\"Adam Model created..\") \n",
    "model_Adam = create_model_Adam()"
   ]
  },
  {
   "cell_type": "code",
   "execution_count": 15,
   "metadata": {},
   "outputs": [
    {
     "name": "stdout",
     "output_type": "stream",
     "text": [
      "Train on 4900 samples, validate on 2100 samples\n",
      "Epoch 1/15\n",
      "4900/4900 [==============================] - 1s 299us/step - loss: 0.5129 - acc: 0.7645 - val_loss: 0.4806 - val_acc: 0.7890\n",
      "Epoch 2/15\n",
      "4900/4900 [==============================] - 1s 161us/step - loss: 0.4594 - acc: 0.7986 - val_loss: 0.4586 - val_acc: 0.8033\n",
      "Epoch 3/15\n",
      "4900/4900 [==============================] - 1s 157us/step - loss: 0.4402 - acc: 0.8133 - val_loss: 0.4525 - val_acc: 0.7976\n",
      "Epoch 4/15\n",
      "4900/4900 [==============================] - 1s 163us/step - loss: 0.4265 - acc: 0.8131 - val_loss: 0.4292 - val_acc: 0.8133\n",
      "Epoch 5/15\n",
      "4900/4900 [==============================] - 1s 170us/step - loss: 0.4155 - acc: 0.8176 - val_loss: 0.4144 - val_acc: 0.8157\n",
      "Epoch 6/15\n",
      "4900/4900 [==============================] - 1s 165us/step - loss: 0.3989 - acc: 0.8284 - val_loss: 0.3980 - val_acc: 0.8324\n",
      "Epoch 7/15\n",
      "4900/4900 [==============================] - 1s 189us/step - loss: 0.3810 - acc: 0.8361 - val_loss: 0.3800 - val_acc: 0.8419\n",
      "Epoch 8/15\n",
      "4900/4900 [==============================] - 1s 179us/step - loss: 0.3721 - acc: 0.8431 - val_loss: 0.3802 - val_acc: 0.8410\n",
      "Epoch 9/15\n",
      "4900/4900 [==============================] - 1s 180us/step - loss: 0.3704 - acc: 0.8390 - val_loss: 0.3718 - val_acc: 0.8448\n",
      "Epoch 10/15\n",
      "4900/4900 [==============================] - 1s 190us/step - loss: 0.3674 - acc: 0.8482 - val_loss: 0.3720 - val_acc: 0.8429\n",
      "Epoch 11/15\n",
      "4900/4900 [==============================] - 1s 184us/step - loss: 0.3662 - acc: 0.8478 - val_loss: 0.3685 - val_acc: 0.8467\n",
      "Epoch 12/15\n",
      "4900/4900 [==============================] - 1s 168us/step - loss: 0.3612 - acc: 0.8504 - val_loss: 0.3690 - val_acc: 0.8467\n",
      "Epoch 13/15\n",
      "4900/4900 [==============================] - 1s 167us/step - loss: 0.3605 - acc: 0.8510 - val_loss: 0.3724 - val_acc: 0.8462\n",
      "Epoch 14/15\n",
      "4900/4900 [==============================] - 1s 170us/step - loss: 0.3594 - acc: 0.8527 - val_loss: 0.3731 - val_acc: 0.8457\n",
      "Epoch 15/15\n",
      "4900/4900 [==============================] - 1s 172us/step - loss: 0.3578 - acc: 0.8504 - val_loss: 0.3737 - val_acc: 0.8410\n"
     ]
    },
    {
     "data": {
      "text/plain": [
       "Text(0.5, 0, 'epoch')"
      ]
     },
     "execution_count": 15,
     "metadata": {},
     "output_type": "execute_result"
    },
    {
     "data": {
      "image/png": "[encoded data removed]",
      "text/plain": [
       "<Figure size 432x288 with 1 Axes>"
      ]
     },
     "metadata": {
      "needs_background": "light"
     },
     "output_type": "display_data"
    }
   ],
   "source": [
    "history_Adam = model_Adam.fit(x_train, y_train,\n",
    "                    batch_size=BATCH_SIZE, \n",
    "                    epochs=15,\n",
    "                    verbose=1,\n",
    "                    shuffle=True,\n",
    "                    validation_data=(x_valid, y_valid))\n",
    "\n",
    "plt.plot(history_Adadelta.history['loss'])\n",
    "plt.plot(history_Adadelta.history['val_loss'])\n",
    "plt.title('Loss')\n",
    "plt.xlabel('epoch')\n"
   ]
  },
  {
   "cell_type": "code",
   "execution_count": 16,
   "metadata": {},
   "outputs": [
    {
     "data": {
      "text/plain": [
       "Text(0.5, 0, 'epoch')"
      ]
     },
     "execution_count": 16,
     "metadata": {},
     "output_type": "execute_result"
    },
    {
     "data": {
      "image/png": "[encoded data removed]",
      "text/plain": [
       "<Figure size 432x288 with 1 Axes>"
      ]
     },
     "metadata": {
      "needs_background": "light"
     },
     "output_type": "display_data"
    }
   ],
   "source": [
    "#plot on train and validation accuracy\n",
    "\n",
    "plt.plot(history_Adam.history['acc'])\n",
    "plt.plot(history_Adam.history['val_acc'])\n",
    "plt.legend(['training','test'])\n",
    "plt.title('Accuracy')\n",
    "plt.xlabel('epoch')"
   ]
  },
  {
   "cell_type": "code",
   "execution_count": 17,
   "metadata": {},
   "outputs": [
    {
     "name": "stdout",
     "output_type": "stream",
     "text": [
      "3000/3000 [==============================] - 0s 34us/step\n",
      "----------------------------\n",
      "Test accuracy_sgd: 0.8123333333333334\n",
      "3000/3000 [==============================] - 0s 39us/step\n",
      "----------------------------\n",
      "Test accuracy_Adadelta: 0.8020000001589457\n",
      "3000/3000 [==============================] - 0s 44us/step\n",
      "----------------------------\n",
      "Test accuracy_Adam: 0.8283333331743876\n"
     ]
    }
   ],
   "source": [
    "#Test Score..\n",
    "\n",
    "y_test = to_categorical(Y_test, 2)\n",
    "accuracy_sgd = model_sgd.evaluate(X_test, y_test, verbose=1)\n",
    "print('----------------------------')\n",
    "print('Test accuracy_sgd:', accuracy_sgd[1])\n",
    "accuracy_Adadelta = model_Adadelta.evaluate(X_test, y_test, verbose=1)\n",
    "print('----------------------------')\n",
    "print('Test accuracy_Adadelta:', accuracy_Adadelta[1])\n",
    "accuracy_Adam = model_Adam.evaluate(X_test, y_test, verbose=1)\n",
    "print('----------------------------')\n",
    "print('Test accuracy_Adam:', accuracy_Adam[1])"
   ]
  },
  {
   "cell_type": "code",
   "execution_count": null,
   "metadata": {},
   "outputs": [],
   "source": []
  },
  {
   "cell_type": "code",
   "execution_count": null,
   "metadata": {
    "colab": {
     "base_uri": "https://localhost:8080/",
     "height": 34
    },
    "colab_type": "code",
    "id": "z_OwzFz-g-iT",
    "outputId": "73962972-ac29-48c4-b7b9-c2a0d7b6d034"
   },
   "outputs": [],
   "source": []
  },
  {
   "cell_type": "code",
   "execution_count": null,
   "metadata": {},
   "outputs": [],
   "source": [
    "\n"
   ]
  },
  {
   "cell_type": "code",
   "execution_count": null,
   "metadata": {
    "colab": {
     "base_uri": "https://localhost:8080/",
     "height": 858
    },
    "colab_type": "code",
    "id": "OkUuR6vyTjsE",
    "outputId": "7ebc6e93-c5c2-4e79-c2a4-484c2901ef41"
   },
   "outputs": [],
   "source": []
  },
  {
   "cell_type": "code",
   "execution_count": null,
   "metadata": {},
   "outputs": [],
   "source": [
    "\n"
   ]
  },
  {
   "cell_type": "code",
   "execution_count": null,
   "metadata": {},
   "outputs": [],
   "source": []
  },
  {
   "cell_type": "code",
   "execution_count": null,
   "metadata": {},
   "outputs": [],
   "source": [
    "\n"
   ]
  },
  {
   "cell_type": "code",
   "execution_count": null,
   "metadata": {},
   "outputs": [],
   "source": [
    "\n"
   ]
  },
  {
   "cell_type": "code",
   "execution_count": null,
   "metadata": {},
   "outputs": [],
   "source": [
    "\n"
   ]
  },
  {
   "cell_type": "code",
   "execution_count": null,
   "metadata": {},
   "outputs": [],
   "source": []
  },
  {
   "cell_type": "code",
   "execution_count": null,
   "metadata": {
    "colab": {
     "base_uri": "https://localhost:8080/",
     "height": 313
    },
    "colab_type": "code",
    "id": "KbOfhpnlSe5-",
    "outputId": "435f1f18-a2d5-417c-d2fd-3de861766e33"
   },
   "outputs": [],
   "source": []
  },
  {
   "cell_type": "code",
   "execution_count": null,
   "metadata": {
    "colab": {
     "base_uri": "https://localhost:8080/",
     "height": 70
    },
    "colab_type": "code",
    "id": "Sp6176J3TnaZ",
    "outputId": "8ce03a51-5b45-4fc3-a2f6-9d4fcad37dd0"
   },
   "outputs": [],
   "source": []
  },
  {
   "cell_type": "code",
   "execution_count": null,
   "metadata": {
    "colab": {},
    "colab_type": "code",
    "id": "MCpEEzSRVJ70"
   },
   "outputs": [],
   "source": [
    "\n"
   ]
  },
  {
   "cell_type": "code",
   "execution_count": null,
   "metadata": {
    "colab": {},
    "colab_type": "code",
    "id": "AMURTPsHWMEJ"
   },
   "outputs": [],
   "source": []
  },
  {
   "cell_type": "code",
   "execution_count": null,
   "metadata": {
    "colab": {},
    "colab_type": "code",
    "id": "QTuieaGkXx6s"
   },
   "outputs": [],
   "source": []
  },
  {
   "cell_type": "code",
   "execution_count": null,
   "metadata": {
    "colab": {},
    "colab_type": "code",
    "id": "1U0Ol96lXyMY"
   },
   "outputs": [],
   "source": []
  },
  {
   "cell_type": "code",
   "execution_count": null,
   "metadata": {
    "colab": {},
    "colab_type": "code",
    "id": "xG04uvSRXyUW"
   },
   "outputs": [],
   "source": []
  },
  {
   "cell_type": "code",
   "execution_count": null,
   "metadata": {
    "colab": {},
    "colab_type": "code",
    "id": "QLBCY0_YXyXq"
   },
   "outputs": [],
   "source": []
  },
  {
   "cell_type": "code",
   "execution_count": null,
   "metadata": {
    "colab": {},
    "colab_type": "code",
    "id": "UsBfrYUaXySI"
   },
   "outputs": [],
   "source": []
  }
 ],
 "metadata": {
  "accelerator": "GPU",
  "colab": {
   "collapsed_sections": [],
   "name": "Bank_Classifier.ipynb",
   "provenance": [],
   "version": "0.3.2"
  },
  "kernelspec": {
   "display_name": "Python 3",
   "language": "python",
   "name": "python3"
  },
  "language_info": {
   "codemirror_mode": {
    "name": "ipython",
    "version": 3
   },
   "file_extension": ".py",
   "mimetype": "text/x-python",
   "name": "python",
   "nbconvert_exporter": "python",
   "pygments_lexer": "ipython3",
   "version": "3.7.1"
  }
 },
 "nbformat": 4,
 "nbformat_minor": 1
}
